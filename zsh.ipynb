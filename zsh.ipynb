{
 "cells": [
  {
   "cell_type": "markdown",
   "metadata": {},
   "source": [
    "# zsh with Oh MY ZSH on Mac\n",
    "## @@ same commands with bash\n",
    "\n",
    "###  1. pwd\n",
    "> show present working directory.\n",
    "\n",
    "###  2. ls\n",
    "> options\n",
    "> * ls -a\n",
    "> * ls -\n",
    "\n",
    "###  3. cd\n",
    "\n",
    "###  4. mv\n",
    "\n",
    "###  5. mkdir\n",
    "\n",
    "###  6. rmdir\n",
    "\n",
    "###  7. echo\n",
    "\n",
    "###  8. cat\n",
    "\n",
    "###  9. > (redirection)\n",
    "\n",
    "### 10. >>\n",
    "\n",
    "### 11. | (pipe-line)\n",
    "\n",
    "### 12. "
   ]
  },
  {
   "cell_type": "code",
   "execution_count": null,
   "metadata": {},
   "outputs": [],
   "source": []
  }
 ],
 "metadata": {
  "kernelspec": {
   "display_name": "Python 3",
   "language": "python",
   "name": "python3"
  },
  "language_info": {
   "codemirror_mode": {
    "name": "ipython",
    "version": 3
   },
   "file_extension": ".py",
   "mimetype": "text/x-python",
   "name": "python",
   "nbconvert_exporter": "python",
   "pygments_lexer": "ipython3",
   "version": "3.7.2"
  }
 },
 "nbformat": 4,
 "nbformat_minor": 4
}
